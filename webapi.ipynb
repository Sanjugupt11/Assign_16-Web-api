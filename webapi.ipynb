{
 "cells": [
  {
   "cell_type": "code",
   "execution_count": null,
   "id": "a438b216-89fe-44ac-a890-caf3d7529ec0",
   "metadata": {},
   "outputs": [],
   "source": [
    "Q1. What is an API? Give an example, where an API is used in real life.\n",
    "Answer:-API stands for Application Programming Interface. In the context of APIs, the word Application refers \n",
    "to any software with a distinct function. Interface can be thought of as a contract of service between two \n",
    "applications. This contract defines how the two communicate with each other using requests and responses.\n",
    " Example:-YouTube API allows developers to integrate YouTube videos and functionality into websites or applications. \n",
    "Twitter offers two APIs. The REST API helps developers to access Twitter data, and the search API provides methods\n",
    "for developers to interact with Twitter Search.\n"
   ]
  },
  {
   "cell_type": "code",
   "execution_count": null,
   "id": "af6a9081-cc29-454f-b03e-89010fb5c3a6",
   "metadata": {},
   "outputs": [],
   "source": [
    "Q2. Give advantages and disadvantages of using API.\n",
    "Answer:-Advantages \n",
    "You have the code written for you. Just plug and play. Your development time is reduced significantly.\n",
    "If you are using standard APIs, then a lot of other people are using that as well. So your codebase is somewhat portable which at times is beneficial.\n",
    "Standard APIs usually have a lot of free community support in case you need troubleshooting. If you tend to write all of your own code then you are pretty much on your own as far as debugging is concerned.\n",
    "Disadvantages\n",
    "\n",
    "Well since you are using someone else's code, you have to understand the structure and assumptions of the developer.\n",
    "In case you need to tweak existing code to add some extra functionality you might need to wade through layers and layers of files just to identify the line where you need to make any changes. It can get pretty annoying at times."
   ]
  },
  {
   "cell_type": "code",
   "execution_count": null,
   "id": "9de8cf60-a362-4f63-aef7-b51bb335c210",
   "metadata": {},
   "outputs": [],
   "source": [
    "Q3. What is a Web API? Differentiate between API and Web API.\n",
    "Answer:- API stands for Application Programming Interface. A Web API is an application programming interface for\n",
    "the Web. A Browser API can extend the functionality of a web browser. A Server API can extend the functionality of\n",
    "a web server.\n",
    "\n",
    "What is the difference between API and Web API?\n",
    "Image result for Q3. What is a Web API? Differentiate between API and Web API.\n",
    "Both APIs and web services are technologies that enable the transfer of data between separate software applications.\n",
    "API is an interface that exposes an application's data to outside software, whereas web applications are one type \n",
    "of API with stricter requirements."
   ]
  },
  {
   "cell_type": "code",
   "execution_count": null,
   "id": "a8266fdd-9634-4d36-9a6d-8198d451a9cb",
   "metadata": {},
   "outputs": [],
   "source": [
    "Q4. Explain REST and SOAP Architecture. Mention shortcomings of SOAP.\n",
    "Answer:-SOAP needs more bandwidth for its usage whereas REST doesn't need much bandwidth. Comparing SOAP vs \n",
    "REST API, SOAP only works with XML formats whereas REST work with plain text, XML, HTML and JSON. SOAP cannot \n",
    "make use of REST whereas REST can make use of SOAP.\n",
    "\n",
    "Limitations of Soaps• Soaps do not wash well in hard water and does not form much lather or foam. The calcium \n",
    "magnesium or iron ions of hard water form an insoluble sticky grey coloured precipitate called scum which restricts\n",
    "the cleansing action of soap and makes washing more difficult."
   ]
  },
  {
   "cell_type": "code",
   "execution_count": null,
   "id": "1a075b37-fd26-42f1-8a28-45462f909a4b",
   "metadata": {},
   "outputs": [],
   "source": [
    "Q5. Differentiate between REST and SOAP.\n",
    "Answer:-SOAP API:-1)Relies on SOAP (Simple Object Access Protocol)\n",
    "2)Transports data in standard XML format.\n",
    "\n",
    "REST API:-1)Relies on REST (Representational State Transfer) architecture using HTTP.\n",
    "2)Generally transports data in JSON. It is based on URI. Because REST follows stateless model, REST does not \n",
    "enforces message format as XML or JSON etc."
   ]
  }
 ],
 "metadata": {
  "kernelspec": {
   "display_name": "Python 3 (ipykernel)",
   "language": "python",
   "name": "python3"
  },
  "language_info": {
   "codemirror_mode": {
    "name": "ipython",
    "version": 3
   },
   "file_extension": ".py",
   "mimetype": "text/x-python",
   "name": "python",
   "nbconvert_exporter": "python",
   "pygments_lexer": "ipython3",
   "version": "3.10.8"
  }
 },
 "nbformat": 4,
 "nbformat_minor": 5
}
